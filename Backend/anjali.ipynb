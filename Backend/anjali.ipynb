{
 "cells": [
  {
   "cell_type": "code",
   "execution_count": 1,
   "metadata": {},
   "outputs": [
    {
     "name": "stderr",
     "output_type": "stream",
     "text": [
      "C:\\Users\\thakr\\AppData\\Local\\Temp\\ipykernel_1184\\1520616938.py:1: DeprecationWarning: \n",
      "Pyarrow will become a required dependency of pandas in the next major release of pandas (pandas 3.0),\n",
      "(to allow more performant data types, such as the Arrow string type, and better interoperability with other libraries)\n",
      "but was not found to be installed on your system.\n",
      "If this would cause problems for you,\n",
      "please provide us feedback at https://github.com/pandas-dev/pandas/issues/54466\n",
      "        \n",
      "  import pandas as pd\n"
     ]
    }
   ],
   "source": [
    "import pandas as pd\n",
    "from sklearn.model_selection import train_test_split\n",
    "\n",
    "# Load your dataset into a pandas DataFrame\n",
    "# Assuming your data is stored in a CSV file named 'data.csv'\n",
    "data = pd.read_csv('train_data.csv')\n",
    "\n",
    "# Remove rows with null values\n",
    "data = data.dropna()"
   ]
  },
  {
   "cell_type": "code",
   "execution_count": null,
   "metadata": {},
   "outputs": [],
   "source": [
    "import pandas as pd\n",
    "import matplotlib.pyplot as plt\n",
    "\n",
    "# Load your dataset into a pandas DataFrame\n",
    "# Assuming your data is stored in a CSV file named 'data.csv'\n",
    "data = pd.read_csv('data.csv')\n",
    "\n",
    "# Plot the 'risk' column\n",
    "plt.figure(figsize=(10, 6))\n",
    "plt.plot(data['risk'], color='blue')\n",
    "plt.title('Risk Over Time')\n",
    "plt.xlabel('Time')\n",
    "plt.ylabel('Risk')\n",
    "plt.grid(True)\n",
    "plt.show()\n",
    "\n",
    "# Plot the 'position' column\n",
    "plt.figure(figsize=(10, 6))\n",
    "plt.plot(data['position'], color='green')\n",
    "plt.title('Position Over Time')\n",
    "plt.xlabel('Time')\n",
    "plt.ylabel('Position')\n",
    "plt.grid(True)\n",
    "plt.show()\n",
    "\n",
    "# Plot the 'velocity' column\n",
    "plt.figure(figsize=(10, 6))\n",
    "plt.plot(data['velocity'], color='red')\n",
    "plt.title('Velocity Over Time')\n",
    "plt.xlabel('Time')\n",
    "plt.ylabel('Velocity')\n",
    "plt.grid(True)\n",
    "plt.show()"
   ]
  },
  {
   "cell_type": "code",
   "execution_count": null,
   "metadata": {},
   "outputs": [],
   "source": [
    "import pandas as pd\n",
    "from sklearn.model_selection import train_test_split\n",
    "\n",
    "# Load your dataset into a pandas DataFrame\n",
    "train_data = pd.read_csv('train_data.csv')\n",
    "\n",
    "# Split the data into features (X) and target variable (y)\n",
    "X = train_data.drop('risk', axis=1)  # Replace 'target_column_name' with the name of your target column\n",
    "y = train_data['risk']\n",
    "\n",
    "# Split the data into training and cross-validation sets\n",
    "# Adjust test_size according to the desired proportion of the cross-validation set\n",
    "X_train, X_cv, y_train, y_cv = train_test_split(X, y, test_size=0.2, random_state=42)\n",
    "\n",
    "# Save training and cross-validation data to CSV files\n",
    "X_train.to_csv('X_train.csv', index=False)\n",
    "X_cv.to_csv('X_cv.csv', index=False)\n",
    "y_train.to_csv('y_train.csv', index=False)\n",
    "y_cv.to_csv('y_cv.csv', index=False)"
   ]
  }
 ],
 "metadata": {
  "kernelspec": {
   "display_name": "Python 3",
   "language": "python",
   "name": "python3"
  },
  "language_info": {
   "codemirror_mode": {
    "name": "ipython",
    "version": 3
   },
   "file_extension": ".py",
   "mimetype": "text/x-python",
   "name": "python",
   "nbconvert_exporter": "python",
   "pygments_lexer": "ipython3",
   "version": "3.12.2"
  }
 },
 "nbformat": 4,
 "nbformat_minor": 2
}
