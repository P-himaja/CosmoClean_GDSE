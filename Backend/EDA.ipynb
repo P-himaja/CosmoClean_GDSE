{
 "cells": [
  {
   "cell_type": "code",
   "execution_count": 2,
   "metadata": {},
   "outputs": [],
   "source": [
    "import numpy as np\n",
    "import pandas as pd\n",
    "from matplotlib import pyplot  as plt\n",
    "import seaborn as sns\n",
    "from sklearn.preprocessing import MinMaxScaler, StandardScaler\n"
   ]
  },
  {
   "cell_type": "code",
   "execution_count": 3,
   "metadata": {},
   "outputs": [],
   "source": [
    "df = pd.read_csv(\"train_data.csv\")\n",
    "X_scaler = MinMaxScaler()\n",
    "Y_scaler = MinMaxScaler()\n",
    "timestep = 1\n",
    "scaling = False\n",
    "selected_features = [\"risk\", \"time_to_tca\",\"x_time_lastob_end\",\n",
    "            \"x_time_lastob_start\", \"mahalanobis_distance\",\n",
    "            \"max_risk_estimate\", \"max_risk_scaling\",\n",
    "            \"miss_distance\", \"x_sigma_t\", \"relative_velocity_t\",\n",
    "            \"event_length\" , \"x_actual_od_span\", \"x_recommended_od_span\", \"relative_position_t\",]\n"
   ]
  },
  {
   "cell_type": "code",
   "execution_count": null,
   "metadata": {},
   "outputs": [],
   "source": [
    "scaling = False\n",
    "df = df.dropna(how='any')\n",
    "def conditions(event):\n",
    "    x = event[\"time_to_tca\"].values\n",
    "    return ((x.min()<3.0) & (x.max()>3.0))\n",
    "df = df.groupby('event_id').filter(conditions)\n",
    "y = df.groupby(['event_id'])['risk'].apply(lambda x: x.iloc[-1]).values.reshape(-1,1)\n",
    "if(scaling):\n",
    "    _ = Y_scaler.fit(df['risk'].values.reshape(-1,1))\n",
    "    y = Y_scaler.transform(y)\n",
    "\n",
    "df = df.loc[df['time_to_tca']>3.0]\n",
    "df['event_length']=df.groupby('event_id')['event_id'].transform('count')\n",
    "if scaling:\n",
    "    df = pd.DataFrame(X_scaler.fit_transform(df), columns=df.columns)\n",
    "\n",
    "features = list(df.columns)\n",
    "X = pd.DataFrame(df)\n",
    "for feature in features:\n",
    "    for i in range(timestep-1,-1,-1):\n",
    "        "
   ]
  }
 ],
 "metadata": {
  "kernelspec": {
   "display_name": "Python 3",
   "language": "python",
   "name": "python3"
  },
  "language_info": {
   "codemirror_mode": {
    "name": "ipython",
    "version": 3
   },
   "file_extension": ".py",
   "mimetype": "text/x-python",
   "name": "python",
   "nbconvert_exporter": "python",
   "pygments_lexer": "ipython3",
   "version": "3.10.0"
  }
 },
 "nbformat": 4,
 "nbformat_minor": 2
}
