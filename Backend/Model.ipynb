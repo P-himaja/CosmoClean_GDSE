{
 "cells": [
  {
   "cell_type": "code",
   "execution_count": 53,
   "metadata": {},
   "outputs": [],
   "source": [
    "import pandas as pd\n",
    "pd.set_option('display.max_columns', None)\n",
    "pd.set_option('display.max_rows', 100)\n",
    "import numpy as np\n",
    "import missingno\n",
    "\n",
    "from IPython.display import display\n",
    "\n",
    "import matplotlib.pyplot as plt\n",
    "%matplotlib inline\n",
    "import seaborn as sns\n",
    "import plotly.express as px\n",
    "\n",
    "from sklearn.model_selection import train_test_split\n",
    "from sklearn.metrics import mean_squared_error, fbeta_score, confusion_matrix, classification_report\n",
    "from sklearn.preprocessing import StandardScaler, MinMaxScaler\n",
    "from sklearn.decomposition import PCA\n",
    "from sklearn.manifold import TSNE\n",
    "from category_encoders import BinaryEncoder\n",
    "\n",
    "import tensorflow as tf\n",
    "from tensorflow.keras import optimizers, Sequential\n",
    "from tensorflow.keras.models import Model\n",
    "from tensorflow.keras.utils import plot_model\n",
    "from tensorflow.keras.layers import Dense, LSTM, RepeatVector, TimeDistributed, Input\n",
    "from tensorflow.keras.callbacks import ModelCheckpoint, TensorBoard\n",
    "import joblib\n",
    "\n"
   ]
  },
  {
   "cell_type": "code",
   "execution_count": null,
   "metadata": {},
   "outputs": [],
   "source": [
    "df = pd.read_csv(\"train_data.csv\")\n",
    "timestep_X = 5 #from 1 to 17 -> lower values give more data\n",
    "timestep_y = 1 #timestep to predict\n",
    "threshold_for_classification = -29.99\n",
    "fill_X = -0.1\n",
    "X_scaler = MinMaxScaler()\n",
    "y_scaler = MinMaxScaler()\n",
    "seed = 11"
   ]
  },
  {
   "cell_type": "code",
   "execution_count": null,
   "metadata": {},
   "outputs": [
    {
     "name": "stdout",
     "output_type": "stream",
     "text": [
      "(83670, 5, 124) (83670, 1)\n"
     ]
    }
   ],
   "source": [
    "#Dropping first the empty column and then rows with NaNs\n",
    "df = df.drop(\"c_rcs_estimate\", axis=1)\n",
    "df = df.dropna(how='any')\n",
    "\n",
    "#Filtering events with len=1 or min_tca > 3 or max_tca < 3\n",
    "def conditions(event):\n",
    "    x = event[\"time_to_tca\"].values\n",
    "    return ((x.min()<3.0) & (x.max()>3.0))\n",
    "\n",
    "df = df.groupby('event_id').filter(conditions)\n",
    "\n",
    "#OHE for c_object_type (5 categories) -> 5 new features\n",
    "df[\"mission_id\"] = df[\"mission_id\"].astype('category')\n",
    "df[\"c_object_type\"] = df[\"c_object_type\"].astype('category')\n",
    "df = pd.get_dummies(df)\n",
    "\n",
    "#Adding feature 'event_length' for counting how many instances each event has\n",
    "df[\"event_length\"] = df.groupby('event_id')['event_id'].transform('count')\n",
    "\n",
    "#Scaling data\n",
    "_ = y_scaler.fit(df[\"risk\"].values.reshape(-1, 1)) #for later use for scaling prediction\n",
    "df = pd.DataFrame(X_scaler.fit_transform(df), columns=df.columns)\n",
    "\n",
    "#Transforming dataframe into a 3D-array with overlapping windows\n",
    "data = []\n",
    "timestep = timestep_X + timestep_y\n",
    "def df_to_3darray(event):\n",
    "    global data\n",
    "    event = event.values\n",
    "    if(timestep>=event.shape[0]):\n",
    "        pad_shape = timestep + 1\n",
    "        pad_event = np.zeros((pad_shape,event.shape[1]))\n",
    "        pad_event.fill(fill_X)\n",
    "        pad_event[-event.shape[0]:,:] = event\n",
    "        event = pad_event\n",
    "    for i in range(event.shape[0]-timestep):\n",
    "        data.append(event[i:i+timestep,:])\n",
    "    return event\n",
    "\n",
    "df.groupby(\"event_id\").apply(df_to_3darray)\n",
    "data = np.array(data)\n",
    "\n",
    "#Dividing X and y\n",
    "target_feture = list(df.columns).index(\"risk\")\n",
    "X, y = data[:,:timestep_X,:], data[:,timestep_X:,target_feture]\n",
    "\n",
    "#Dropping event_id to remove noise\n",
    "X = X[:,:,1:]\n",
    "\n",
    "#TODO: Padding with specific values column-wise instead of fixed number.\n",
    "#TODO: Separating time dependent and independent feature in 2 X arrays\n",
    "\n",
    "print(X.shape, y.shape)"
   ]
  },
  {
   "cell_type": "code",
   "execution_count": null,
   "metadata": {},
   "outputs": [
    {
     "name": "stdout",
     "output_type": "stream",
     "text": [
      "High risk: 0.48\n"
     ]
    }
   ],
   "source": [
    "#computing scaled threshold \n",
    "th = np.array([threshold_for_classification]).reshape(-1,1)\n",
    "th = y_scaler.transform(th)\n",
    "threshold_scaled = th[0,0]\n",
    "\n",
    "#y boolean for splitting\n",
    "y_boolean = (y > threshold_scaled).reshape(-1,1)\n",
    "\n",
    "#Splitting arrays\n",
    "X_train, X_test, y_train_numeric, y_test_numeric = train_test_split(X, y, \n",
    "                                                    stratify=y_boolean, \n",
    "                                                    shuffle=True,\n",
    "                                                    random_state=seed,\n",
    "                                                    test_size = 0.1\n",
    "                                                  )\n",
    "\n",
    "#transforming it into a classification task -> y_train, y_test boolean\n",
    "y_train = (y_train_numeric > threshold_scaled).reshape(-1,1)\n",
    "y_test = (y_test_numeric > threshold_scaled).reshape(-1,1)\n",
    "\n",
    "#percentage of high risk\n",
    "print(\"High risk: {:0.2f}\".format(np.sum(y_test)/y_test.shape[0]))"
   ]
  },
  {
   "cell_type": "code",
   "execution_count": null,
   "metadata": {},
   "outputs": [
    {
     "name": "stdout",
     "output_type": "stream",
     "text": [
      "WARNING:tensorflow:From C:\\Users\\karan\\AppData\\Roaming\\Python\\Python310\\site-packages\\keras\\src\\backend.py:1398: The name tf.executing_eagerly_outside_functions is deprecated. Please use tf.compat.v1.executing_eagerly_outside_functions instead.\n",
      "\n",
      "Model: \"model\"\n",
      "_________________________________________________________________\n",
      " Layer (type)                Output Shape              Param #   \n",
      "=================================================================\n",
      " input_1 (InputLayer)        [(None, 5, 124)]          0         \n",
      "                                                                 \n",
      " lstm (LSTM)                 (None, 5, 32)             20096     \n",
      "                                                                 \n",
      " lstm_1 (LSTM)               (None, 16)                3136      \n",
      "                                                                 \n",
      " dense (Dense)               (None, 1)                 17        \n",
      "                                                                 \n",
      "=================================================================\n",
      "Total params: 23249 (90.82 KB)\n",
      "Trainable params: 23249 (90.82 KB)\n",
      "Non-trainable params: 0 (0.00 Byte)\n",
      "_________________________________________________________________\n"
     ]
    }
   ],
   "source": [
    "#hiperparameter\n",
    "epochs = 30\n",
    "batch = 64\n",
    "val_split = 0.3\n",
    "lr = 0.0001\n",
    "adam = optimizers.Adam(lr)\n",
    "#class_weight = {True: 1.,\n",
    "#                False: 50.}\n",
    "verbose = 1\n",
    "\n",
    "\n",
    "# Model activation selu\n",
    "input_tensor = Input(batch_shape=(None, timestep_X, X_train.shape[2]))\n",
    "rnn_1 = LSTM(32, stateful=False, dropout=0.1, return_sequences=True)(input_tensor)\n",
    "rnn_2 = LSTM(16, stateful=False, dropout=0.1, return_sequences=False)(rnn_1)\n",
    "output_tensor = Dense(units = 1, activation='sigmoid')(rnn_2)\n",
    "\n",
    "model = Model(inputs=input_tensor,\n",
    "              outputs= output_tensor)\n",
    "\n",
    "model.compile(loss='binary_crossentropy',\n",
    "              optimizer=adam,\n",
    "              metrics=['accuracy'])\n",
    "\n",
    "model.summary()"
   ]
  },
  {
   "cell_type": "code",
   "execution_count": null,
   "metadata": {
    "scrolled": false
   },
   "outputs": [
    {
     "name": "stdout",
     "output_type": "stream",
     "text": [
      "Epoch 1/30\n",
      "WARNING:tensorflow:From C:\\Users\\karan\\AppData\\Roaming\\Python\\Python310\\site-packages\\keras\\src\\utils\\tf_utils.py:492: The name tf.ragged.RaggedTensorValue is deprecated. Please use tf.compat.v1.ragged.RaggedTensorValue instead.\n",
      "\n",
      "WARNING:tensorflow:From C:\\Users\\karan\\AppData\\Roaming\\Python\\Python310\\site-packages\\keras\\src\\engine\\base_layer_utils.py:384: The name tf.executing_eagerly_outside_functions is deprecated. Please use tf.compat.v1.executing_eagerly_outside_functions instead.\n",
      "\n",
      "824/824 [==============================] - 9s 8ms/step - loss: 0.4925 - accuracy: 0.7723 - val_loss: 0.3683 - val_accuracy: 0.8414\n",
      "Epoch 2/30\n",
      "824/824 [==============================] - 7s 9ms/step - loss: 0.3702 - accuracy: 0.8405 - val_loss: 0.3259 - val_accuracy: 0.8631\n",
      "Epoch 3/30\n",
      "824/824 [==============================] - 7s 9ms/step - loss: 0.3305 - accuracy: 0.8628 - val_loss: 0.2968 - val_accuracy: 0.8801\n",
      "Epoch 4/30\n",
      "824/824 [==============================] - 7s 9ms/step - loss: 0.3051 - accuracy: 0.8757 - val_loss: 0.2772 - val_accuracy: 0.8907\n",
      "Epoch 5/30\n",
      "824/824 [==============================] - 7s 8ms/step - loss: 0.2907 - accuracy: 0.8840 - val_loss: 0.2634 - val_accuracy: 0.8984\n",
      "Epoch 6/30\n",
      "824/824 [==============================] - 6s 8ms/step - loss: 0.2787 - accuracy: 0.8916 - val_loss: 0.2564 - val_accuracy: 0.9032\n",
      "Epoch 7/30\n",
      "824/824 [==============================] - 7s 8ms/step - loss: 0.2725 - accuracy: 0.8952 - val_loss: 0.2508 - val_accuracy: 0.9082\n",
      "Epoch 8/30\n",
      "824/824 [==============================] - 7s 9ms/step - loss: 0.2682 - accuracy: 0.8978 - val_loss: 0.2463 - val_accuracy: 0.9108\n",
      "Epoch 9/30\n",
      "824/824 [==============================] - 7s 8ms/step - loss: 0.2623 - accuracy: 0.9008 - val_loss: 0.2436 - val_accuracy: 0.9126\n",
      "Epoch 10/30\n",
      "824/824 [==============================] - 7s 8ms/step - loss: 0.2631 - accuracy: 0.9017 - val_loss: 0.2438 - val_accuracy: 0.9117\n",
      "Epoch 11/30\n",
      "824/824 [==============================] - 6s 8ms/step - loss: 0.2605 - accuracy: 0.9026 - val_loss: 0.2418 - val_accuracy: 0.9138\n",
      "Epoch 12/30\n",
      "824/824 [==============================] - 7s 8ms/step - loss: 0.2593 - accuracy: 0.9028 - val_loss: 0.2400 - val_accuracy: 0.9151\n",
      "Epoch 13/30\n",
      "824/824 [==============================] - 7s 8ms/step - loss: 0.2544 - accuracy: 0.9039 - val_loss: 0.2370 - val_accuracy: 0.9166\n",
      "Epoch 14/30\n",
      "824/824 [==============================] - 7s 8ms/step - loss: 0.2557 - accuracy: 0.9049 - val_loss: 0.2410 - val_accuracy: 0.9134\n",
      "Epoch 15/30\n",
      "824/824 [==============================] - 7s 8ms/step - loss: 0.2551 - accuracy: 0.9045 - val_loss: 0.2395 - val_accuracy: 0.9144\n",
      "Epoch 16/30\n",
      "824/824 [==============================] - 7s 8ms/step - loss: 0.2530 - accuracy: 0.9052 - val_loss: 0.2358 - val_accuracy: 0.9162\n",
      "Epoch 17/30\n",
      "824/824 [==============================] - 6s 7ms/step - loss: 0.2507 - accuracy: 0.9062 - val_loss: 0.2336 - val_accuracy: 0.9180\n",
      "Epoch 18/30\n",
      "824/824 [==============================] - 5s 7ms/step - loss: 0.2491 - accuracy: 0.9071 - val_loss: 0.2323 - val_accuracy: 0.9180\n",
      "Epoch 19/30\n",
      "824/824 [==============================] - 6s 7ms/step - loss: 0.2499 - accuracy: 0.9076 - val_loss: 0.2325 - val_accuracy: 0.9179\n",
      "Epoch 20/30\n",
      "824/824 [==============================] - 6s 7ms/step - loss: 0.2492 - accuracy: 0.9065 - val_loss: 0.2301 - val_accuracy: 0.9189\n",
      "Epoch 21/30\n",
      "824/824 [==============================] - 5s 7ms/step - loss: 0.2457 - accuracy: 0.9098 - val_loss: 0.2286 - val_accuracy: 0.9194\n",
      "Epoch 22/30\n",
      "824/824 [==============================] - 5s 7ms/step - loss: 0.2451 - accuracy: 0.9088 - val_loss: 0.2267 - val_accuracy: 0.9207\n",
      "Epoch 23/30\n",
      "824/824 [==============================] - 5s 7ms/step - loss: 0.2442 - accuracy: 0.9090 - val_loss: 0.2287 - val_accuracy: 0.9196\n",
      "Epoch 24/30\n",
      "824/824 [==============================] - 6s 7ms/step - loss: 0.2437 - accuracy: 0.9087 - val_loss: 0.2252 - val_accuracy: 0.9208\n",
      "Epoch 25/30\n",
      "824/824 [==============================] - 6s 7ms/step - loss: 0.2440 - accuracy: 0.9095 - val_loss: 0.2252 - val_accuracy: 0.9208\n",
      "Epoch 26/30\n",
      "824/824 [==============================] - 5s 7ms/step - loss: 0.2420 - accuracy: 0.9100 - val_loss: 0.2239 - val_accuracy: 0.9213\n",
      "Epoch 27/30\n",
      "824/824 [==============================] - 6s 7ms/step - loss: 0.2427 - accuracy: 0.9096 - val_loss: 0.2261 - val_accuracy: 0.9199\n",
      "Epoch 28/30\n",
      "824/824 [==============================] - 6s 7ms/step - loss: 0.2398 - accuracy: 0.9109 - val_loss: 0.2241 - val_accuracy: 0.9216\n",
      "Epoch 29/30\n",
      "824/824 [==============================] - 5s 6ms/step - loss: 0.2387 - accuracy: 0.9123 - val_loss: 0.2219 - val_accuracy: 0.9219\n",
      "Epoch 30/30\n",
      "824/824 [==============================] - 6s 7ms/step - loss: 0.2374 - accuracy: 0.9120 - val_loss: 0.2213 - val_accuracy: 0.9220\n"
     ]
    }
   ],
   "source": [
    "model_history = model.fit(X_train, y_train, \n",
    "                          epochs=epochs, \n",
    "                          batch_size=batch,\n",
    "                          validation_split=val_split,\n",
    "                          verbose=verbose,\n",
    "                         ).history"
   ]
  },
  {
   "cell_type": "code",
   "execution_count": null,
   "metadata": {},
   "outputs": [
    {
     "data": {
      "image/png": "[encoded data removed]",
      "text/plain": [
       "<Figure size 640x480 with 1 Axes>"
      ]
     },
     "metadata": {},
     "output_type": "display_data"
    }
   ],
   "source": [
    "plt.plot(model_history['loss'], linewidth=2, label='Train')\n",
    "plt.plot(model_history['val_loss'], linewidth=2, label='Valid')\n",
    "plt.legend(loc='upper right')\n",
    "plt.title('Model loss')\n",
    "plt.ylabel('Loss')\n",
    "plt.xlabel('Epoch')\n",
    "plt.show()"
   ]
  },
  {
   "cell_type": "code",
   "execution_count": null,
   "metadata": {},
   "outputs": [
    {
     "name": "stdout",
     "output_type": "stream",
     "text": [
      "131/131 [==============================] - 0s 2ms/step\n"
     ]
    },
    {
     "data": {
      "image/png": "[encoded data removed]",
      "text/plain": [
       "<Figure size 640x480 with 2 Axes>"
      ]
     },
     "metadata": {},
     "output_type": "display_data"
    },
    {
     "data": {
      "image/png": "[encoded data removed]",
      "text/plain": [
       "<Figure size 640x480 with 2 Axes>"
      ]
     },
     "metadata": {},
     "output_type": "display_data"
    },
    {
     "name": "stdout",
     "output_type": "stream",
     "text": [
      "[[ True]\n",
      " [ True]\n",
      " [False]\n",
      " ...\n",
      " [ True]\n",
      " [False]\n",
      " [False]]\n"
     ]
    },
    {
     "data": {
      "image/png": "[encoded data removed]",
      "text/plain": [
       "<Figure size 640x480 with 2 Axes>"
      ]
     },
     "metadata": {},
     "output_type": "display_data"
    },
    {
     "name": "stdout",
     "output_type": "stream",
     "text": [
      "[[ True]\n",
      " [ True]\n",
      " [False]\n",
      " ...\n",
      " [ True]\n",
      " [False]\n",
      " [False]]\n"
     ]
    }
   ],
   "source": [
    "#Model Evaluation\n",
    "high_risk_real_value = -5.0\n",
    "low_risk_real_value  = -6.1\n",
    "classification_threshold = 0.25\n",
    "\n",
    "def evaluate(y_pred):\n",
    "    \n",
    "    #getting numeric predictions from boolean predictions\n",
    "    y_pred_numeric = np.zeros((y_pred.shape[0],y_pred.shape[1]))\n",
    "    y_pred_numeric[y_pred==True] = low_risk_real_value\n",
    "    y_pred_numeric[y_pred==False] = high_risk_real_value\n",
    "    \n",
    "    #getting predictions greater than -6.0 in real data (y_test_scaled)\n",
    "    y_cv_scaled = y_scaler.inverse_transform(y_test_numeric)\n",
    "    y_cv_mse = y_cv_scaled[np.where(y_cv_scaled >= -6.0)]\n",
    "    y_pred_mse = y_pred_numeric[np.where(y_cv_scaled >= -6.0)]\n",
    "    \n",
    "    mse = mean_squared_error(y_cv_mse, y_pred_mse)\n",
    "    \n",
    "        \n",
    "    hm = sns.heatmap(confusion_matrix(y_test, y_pred), annot=True, cmap=\"Blues\", fmt='d')# font size\n",
    "    bottom, top = hm.get_ylim()\n",
    "    hm.set_ylim(bottom + 0.5, top - 0.5)\n",
    "    plt.show()\n",
    "\n",
    "#Predicting with model\n",
    "y_model = model.predict(X_test, batch_size=batch)\n",
    "y_model = (y_model > classification_threshold).reshape(-1,1)\n",
    "evaluate(y_model)\n",
    "\n",
    "#Predicting -5 always\n",
    "y_constant = np.ones((y_test.shape[0],y_test.shape[1]), dtype=bool)\n",
    "evaluate(y_constant)\n",
    "\n",
    "#Predicting last value\n",
    "y_last = X_test[:,-1,1]\n",
    "y_last = (y_last > threshold_scaled).reshape(-1,1)\n",
    "print(y_last)\n",
    "evaluate(y_last)\n",
    "print(y_last)\n"
   ]
  },
  {
   "cell_type": "code",
   "execution_count": null,
   "metadata": {},
   "outputs": [
    {
     "name": "stdout",
     "output_type": "stream",
     "text": [
      "Feature columns:\n",
      "AP\n",
      "F10\n",
      "F3M\n",
      "SSN\n",
      "azimuth\n",
      "c_actual_od_span\n",
      "c_cd_area_over_mass\n",
      "c_cn_r\n",
      "c_cn_t\n",
      "c_cndot_n\n",
      "c_cndot_r\n",
      "c_cndot_rdot\n",
      "c_cndot_t\n",
      "c_cndot_tdot\n",
      "c_cr_area_over_mass\n",
      "c_crdot_n\n",
      "c_crdot_r\n",
      "c_crdot_t\n",
      "c_ct_r\n",
      "c_ctdot_n\n",
      "c_ctdot_r\n",
      "c_ctdot_rdot\n",
      "c_ctdot_t\n",
      "c_h_apo\n",
      "c_h_per\n",
      "c_j2k_ecc\n",
      "c_j2k_inc\n",
      "c_j2k_sma\n",
      "c_object_type_DEBRIS\n",
      "c_object_type_PAYLOAD\n",
      "c_object_type_ROCKET BODY\n",
      "c_object_type_TBA\n",
      "c_object_type_UNKNOWN\n",
      "c_obs_available\n",
      "c_obs_used\n",
      "c_position_covariance_det\n",
      "c_recommended_od_span\n",
      "c_residuals_accepted\n",
      "c_sedr\n",
      "c_sigma_n\n",
      "c_sigma_ndot\n",
      "c_sigma_r\n",
      "c_sigma_rdot\n",
      "c_sigma_t\n",
      "c_sigma_tdot\n",
      "c_span\n",
      "c_time_lastob_end\n",
      "c_time_lastob_start\n",
      "c_weighted_rms\n",
      "elevation\n",
      "event_length\n",
      "geocentric_latitude\n",
      "mahalanobis_distance\n",
      "max_risk_estimate\n",
      "max_risk_scaling\n",
      "miss_distance\n",
      "mission_id_1\n",
      "mission_id_10\n",
      "mission_id_13\n",
      "mission_id_14\n",
      "mission_id_15\n",
      "mission_id_16\n",
      "mission_id_18\n",
      "mission_id_19\n",
      "mission_id_2\n",
      "mission_id_20\n",
      "mission_id_22\n",
      "mission_id_23\n",
      "mission_id_24\n",
      "mission_id_3\n",
      "mission_id_4\n",
      "mission_id_5\n",
      "mission_id_6\n",
      "mission_id_7\n",
      "mission_id_9\n",
      "relative_position_n\n",
      "relative_position_r\n",
      "relative_position_t\n",
      "relative_speed\n",
      "relative_velocity_n\n",
      "relative_velocity_r\n",
      "relative_velocity_t\n",
      "risk\n",
      "t_actual_od_span\n",
      "t_cd_area_over_mass\n",
      "t_cn_r\n",
      "t_cn_t\n",
      "t_cndot_n\n",
      "t_cndot_r\n",
      "t_cndot_rdot\n",
      "t_cndot_t\n",
      "t_cndot_tdot\n",
      "t_cr_area_over_mass\n",
      "t_crdot_n\n",
      "t_crdot_r\n",
      "t_crdot_t\n",
      "t_ct_r\n",
      "t_ctdot_n\n",
      "t_ctdot_r\n",
      "t_ctdot_rdot\n",
      "t_ctdot_t\n",
      "t_h_apo\n",
      "t_h_per\n",
      "t_j2k_ecc\n",
      "t_j2k_inc\n",
      "t_j2k_sma\n",
      "t_obs_available\n",
      "t_obs_used\n",
      "t_position_covariance_det\n",
      "t_rcs_estimate\n",
      "t_recommended_od_span\n",
      "t_residuals_accepted\n",
      "t_sedr\n",
      "t_sigma_n\n",
      "t_sigma_ndot\n",
      "t_sigma_r\n",
      "t_sigma_rdot\n",
      "t_sigma_t\n",
      "t_sigma_tdot\n",
      "t_span\n",
      "t_time_lastob_end\n",
      "t_time_lastob_start\n",
      "t_weighted_rms\n",
      "time_to_tca\n"
     ]
    }
   ],
   "source": [
    "used_features = df.columns.difference(['event_id'])\n",
    "\n",
    "# Print the list of features\n",
    "print(\"Feature columns:\")\n",
    "for feature in used_features:\n",
    "    print(feature)\n"
   ]
  },
  {
   "cell_type": "code",
   "execution_count": null,
   "metadata": {},
   "outputs": [
    {
     "name": "stdout",
     "output_type": "stream",
     "text": [
      "(8367, 124)\n",
      "[[0.40230747 0.35696701 0.36908525 ... 0.         0.         0.9047619 ]\n",
      " [0.53528781 0.85299407 0.54192482 ... 0.         1.         0.9047619 ]\n",
      " [0.42994119 0.         0.47064219 ... 0.         0.         0.95238095]\n",
      " ...\n",
      " [0.51427791 0.15357299 0.45196463 ... 0.         0.         0.9047619 ]\n",
      " [0.16742953 0.         0.34063605 ... 0.         0.         0.9047619 ]\n",
      " [0.48551691 0.         0.49868441 ... 0.         0.         0.85714286]]\n"
     ]
    }
   ],
   "source": [
    "y_last = X_test[:,-1,]\n",
    "print(y_last.shape)\n",
    "print(y_last)\n",
    "\n"
   ]
  },
  {
   "cell_type": "code",
   "execution_count": 52,
   "metadata": {},
   "outputs": [
    {
     "name": "stdout",
     "output_type": "stream",
     "text": [
      "INFO:tensorflow:Assets written to: risk_model\\assets\n"
     ]
    },
    {
     "name": "stderr",
     "output_type": "stream",
     "text": [
      "INFO:tensorflow:Assets written to: risk_model\\assets\n"
     ]
    }
   ],
   "source": [
    "tf.saved_model.save(model, 'risk_model')"
   ]
  },
  {
   "cell_type": "code",
   "execution_count": 54,
   "metadata": {},
   "outputs": [
    {
     "data": {
      "text/plain": [
       "['risk_model.joblib']"
      ]
     },
     "execution_count": 54,
     "metadata": {},
     "output_type": "execute_result"
    }
   ],
   "source": [
    "joblib.dump(model, 'risk_model.joblib')"
   ]
  },
  {
   "cell_type": "code",
   "execution_count": 56,
   "metadata": {},
   "outputs": [],
   "source": [
    "model1 = joblib.load('risk_model.joblib')"
   ]
  },
  {
   "cell_type": "code",
   "execution_count": 62,
   "metadata": {},
   "outputs": [
    {
     "name": "stdout",
     "output_type": "stream",
     "text": [
      "262/262 [==============================] - 1s 3ms/step\n"
     ]
    },
    {
     "data": {
      "image/png": "[encoded data removed]",
      "text/plain": [
       "<Figure size 640x480 with 2 Axes>"
      ]
     },
     "metadata": {},
     "output_type": "display_data"
    },
    {
     "name": "stdout",
     "output_type": "stream",
     "text": [
      "[[ True]\n",
      " [ True]\n",
      " [False]\n",
      " ...\n",
      " [ True]\n",
      " [False]\n",
      " [False]]\n"
     ]
    }
   ],
   "source": []
  },
  {
   "cell_type": "code",
   "execution_count": null,
   "metadata": {},
   "outputs": [],
   "source": []
  }
 ],
 "metadata": {
  "kernelspec": {
   "display_name": "Python 3",
   "language": "python",
   "name": "python3"
  },
  "language_info": {
   "codemirror_mode": {
    "name": "ipython",
    "version": 3
   },
   "file_extension": ".py",
   "mimetype": "text/x-python",
   "name": "python",
   "nbconvert_exporter": "python",
   "pygments_lexer": "ipython3",
   "version": "3.10.0"
  }
 },
 "nbformat": 4,
 "nbformat_minor": 2
}
